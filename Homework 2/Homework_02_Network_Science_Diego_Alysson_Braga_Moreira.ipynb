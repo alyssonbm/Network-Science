{
  "nbformat": 4,
  "nbformat_minor": 0,
  "metadata": {
    "colab": {
      "name": "Homework 02 - Network Science -  Diego Alysson Braga Moreira",
      "provenance": [],
      "toc_visible": true
    },
    "kernelspec": {
      "name": "python3",
      "display_name": "Python 3"
    },
    "language_info": {
      "name": "python"
    }
  },
  "cells": [
    {
      "cell_type": "markdown",
      "metadata": {
        "id": "ex_HjoHXLFs6"
      },
      "source": [
        "# Librarys Import  "
      ]
    },
    {
      "cell_type": "code",
      "metadata": {
        "id": "slCLwkW1fDGL"
      },
      "source": [
        "#Import librarys\n",
        "import networkx as nx\n",
        "import matplotlib.pyplot as plt"
      ],
      "execution_count": 5,
      "outputs": []
    },
    {
      "cell_type": "markdown",
      "metadata": {
        "id": "cYJJwryALQIP"
      },
      "source": [
        "#Creating Methods"
      ]
    },
    {
      "cell_type": "markdown",
      "metadata": {
        "id": "f7QBPXhnLTfG"
      },
      "source": [
        "### Method to calculate the Average Degree of a Network."
      ]
    },
    {
      "cell_type": "code",
      "metadata": {
        "id": "jttMhDGFiV9j"
      },
      "source": [
        "#Method for calculating the Average Degree of the Network G.\n",
        "def AverageDegree(G):\n",
        "    return sum([G.degree(n) for n in G.nodes()])/len(G.degree)"
      ],
      "execution_count": 6,
      "outputs": []
    },
    {
      "cell_type": "markdown",
      "metadata": {
        "id": "V69H3fr_LcRX"
      },
      "source": [
        "### Method for plotting the degree distribution of a Network"
      ]
    },
    {
      "cell_type": "code",
      "metadata": {
        "id": "8JyFsyF-iiSB"
      },
      "source": [
        "#Plot the degree distribution of the network G.\n",
        "def PlotDegree(G):\n",
        "    degrees = [G.degree(n) for n in G.nodes()]\n",
        "    plt.hist(degrees)\n",
        "    plt.show()"
      ],
      "execution_count": 7,
      "outputs": []
    },
    {
      "cell_type": "markdown",
      "metadata": {
        "id": "oHTBbqlSL5L7"
      },
      "source": [
        "# Importing data from a .tsv file"
      ]
    },
    {
      "cell_type": "code",
      "metadata": {
        "id": "5DdNBdP7gIw1"
      },
      "source": [
        "#Open and extract the network edge list from the tsv file.\n",
        "fh=open(\"/content/net1000-005 - net1000-005.tsv\", 'rb')\n",
        "G=nx.read_edgelist(fh)\n",
        "fh.close()"
      ],
      "execution_count": 8,
      "outputs": []
    },
    {
      "cell_type": "markdown",
      "metadata": {
        "id": "rFIFJr8_o4Mw"
      },
      "source": [
        "#1. Use the attached file net1000-005.tsv for this question. It contains a list of links for a network having N = 1000."
      ]
    },
    {
      "cell_type": "markdown",
      "metadata": {
        "id": "J0FeL0mKpDzJ"
      },
      "source": [
        "##(a) What is the average degree of this network?"
      ]
    },
    {
      "cell_type": "code",
      "metadata": {
        "colab": {
          "base_uri": "https://localhost:8080/"
        },
        "id": "tinTW7YPv9gd",
        "outputId": "2e33deb5-febc-437c-c351-816cbf64cc2d"
      },
      "source": [
        "#Average Degree calculated by the AverageDegree method\n",
        "print('The Average Degree of the G network is:{}'.format(AverageDegree(G)))"
      ],
      "execution_count": 9,
      "outputs": [
        {
          "output_type": "stream",
          "text": [
            "The Average Degree of the G network is:49.686\n"
          ],
          "name": "stdout"
        }
      ]
    },
    {
      "cell_type": "markdown",
      "metadata": {
        "id": "QTT0z3x6pJzt"
      },
      "source": [
        "##(b) Plot the degree distribution of the network."
      ]
    },
    {
      "cell_type": "code",
      "metadata": {
        "colab": {
          "base_uri": "https://localhost:8080/",
          "height": 265
        },
        "id": "ioSjuiZ_inW8",
        "outputId": "d426f7ef-3edb-4e11-90c0-19c9e8468398"
      },
      "source": [
        "#Plot using the method PlotDegree\n",
        "PlotDegree(G)"
      ],
      "execution_count": 10,
      "outputs": [
        {
          "output_type": "display_data",
          "data": {
            "image/png": "[encoded data removed]",
            "text/plain": [
              "<Figure size 432x288 with 1 Axes>"
            ]
          },
          "metadata": {
            "tags": [],
            "needs_background": "light"
          }
        }
      ]
    }
  ]
}