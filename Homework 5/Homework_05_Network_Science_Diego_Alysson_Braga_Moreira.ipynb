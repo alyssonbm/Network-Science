{
  "nbformat": 4,
  "nbformat_minor": 0,
  "metadata": {
    "colab": {
      "name": "Homework 05 - Network Science -  Diego Alysson Braga Moreira",
      "provenance": [],
      "collapsed_sections": [],
      "toc_visible": true
    },
    "kernelspec": {
      "name": "python3",
      "display_name": "Python 3"
    },
    "language_info": {
      "name": "python"
    }
  },
  "cells": [
    {
      "cell_type": "markdown",
      "metadata": {
        "id": "XNfcUvwFok4u"
      },
      "source": [
        "# Librarys Import"
      ]
    },
    {
      "cell_type": "code",
      "metadata": {
        "id": "p2LJ_xvloLQa"
      },
      "source": [
        "#Import librarys\n",
        "import networkx as nx\n",
        "import matplotlib.pyplot as plt\n",
        "import numpy as np"
      ],
      "execution_count": 243,
      "outputs": []
    },
    {
      "cell_type": "markdown",
      "metadata": {
        "id": "Ib28r89Vos1C"
      },
      "source": [
        "# Importing data from a .tsv file"
      ]
    },
    {
      "cell_type": "code",
      "metadata": {
        "id": "gUymCyKLotJO"
      },
      "source": [
        "#Open and extract the network edge list from the tsv file.\n",
        "fh=open(\"/content/net1 - net1.tsv\", 'rb')\n",
        "GN1=nx.read_edgelist(fh)\n",
        "fh.close()\n",
        "\n",
        "fh=open(\"/content/net2 - net2.tsv\", 'rb')\n",
        "GN2=nx.read_edgelist(fh)\n",
        "fh.close()"
      ],
      "execution_count": 244,
      "outputs": []
    },
    {
      "cell_type": "markdown",
      "metadata": {
        "id": "YM1evqMbMMm4"
      },
      "source": [
        "# Suport Functions\n",
        "### degree_histogram_plot_x_and_y: Get the probability from all elements from the network\n",
        "### cumulative_function: Get the Cumulative values for the probabilities "
      ]
    },
    {
      "cell_type": "code",
      "metadata": {
        "id": "yRGcuTA9rQpa"
      },
      "source": [
        "def degree_histogram_plot_x_and_y(g, normalized=True):\n",
        "    aux_y = nx.degree_histogram(g)    \n",
        "    aux_x = np.arange(0,len(aux_y)).tolist()\n",
        "    return aux_x[1:], aux_y[1:]"
      ],
      "execution_count": 245,
      "outputs": []
    },
    {
      "cell_type": "code",
      "metadata": {
        "id": "tH8IFQj80LhB"
      },
      "source": [
        "def cumulative_function(network_y):\n",
        "  network_y_list = []\n",
        "  for i in range(len(network_y)):\n",
        "    network_y_list.append(sum((network_y[0:i])))\n",
        "  return network_y_list"
      ],
      "execution_count": 246,
      "outputs": []
    },
    {
      "cell_type": "markdown",
      "metadata": {
        "id": "9aiNiVFGM1Dg"
      },
      "source": [
        "#Get the probabilities and the cumulative values to the network"
      ]
    },
    {
      "cell_type": "code",
      "metadata": {
        "id": "dOZRGnBzrRnE"
      },
      "source": [
        "hist_GN1_x, hist_GN1_y = degree_histogram_plot_x_and_y(GN1)\n",
        "hist_GN2_x, hist_GN2_y = degree_histogram_plot_x_and_y(GN2)\n",
        "\n",
        "cumulative_value_GN1 = cumulative_function(hist_GN1_y)\n",
        "cumulative_value_GN2 = cumulative_function(hist_GN2_y)"
      ],
      "execution_count": 247,
      "outputs": []
    },
    {
      "cell_type": "markdown",
      "metadata": {
        "id": "iwnxGf2JM-lO"
      },
      "source": [
        "#For the purpose of study, various types of graphs will be plotted, namely:\n",
        "###Linear (must be avoided)\n",
        "###Log-Log binning (With only 1 bin, due to the little data)\n",
        "###Cumulative log-log"
      ]
    },
    {
      "cell_type": "markdown",
      "metadata": {
        "id": "25_IHzwqNxvr"
      },
      "source": [
        "--------------------------------------------------------------------------------------------------------------------------------"
      ]
    },
    {
      "cell_type": "markdown",
      "metadata": {
        "id": "dMUIonnfN0cP"
      },
      "source": [
        "###Linear (must be avoided)"
      ]
    },
    {
      "cell_type": "code",
      "metadata": {
        "colab": {
          "base_uri": "https://localhost:8080/",
          "height": 376
        },
        "id": "4ddjm8ccGG2u",
        "outputId": "7e38b15a-b23c-4017-fc8c-de53fc69db11"
      },
      "source": [
        "plt.figure(figsize=(15,5))\n",
        "plt.subplot(1,2,1)\n",
        "plt.plot(hist_GN1_x, hist_GN1_y,'o')\n",
        "plt.title('\\nDistribution Of Node Linkages (Linear scale)')\n",
        "plt.xlabel('Degree\\n(log scale)')\n",
        "plt.ylabel('Number of Nodes\\n(log scale)')\n",
        "\n",
        "plt.subplot(1, 2, 2)\n",
        "plt.plot(hist_GN2_x, hist_GN2_y,'o')\n",
        "plt.title('\\nDistribution Of Node Linkages (Linear scale)')\n",
        "plt.xlabel('Degree\\n(log scale)')\n",
        "plt.ylabel('Number of Nodes\\n(log scale)')\n",
        "\n",
        "plt.show()"
      ],
      "execution_count": 248,
      "outputs": [
        {
          "output_type": "display_data",
          "data": {
            "image/png": "[encoded data removed]",
            "text/plain": [
              "<Figure size 1080x360 with 2 Axes>"
            ]
          },
          "metadata": {
            "tags": [],
            "needs_background": "light"
          }
        }
      ]
    },
    {
      "cell_type": "markdown",
      "metadata": {
        "id": "BofSgFWJOlLo"
      },
      "source": [
        "."
      ]
    },
    {
      "cell_type": "markdown",
      "metadata": {
        "id": "-j88qKkNOluo"
      },
      "source": [
        "."
      ]
    },
    {
      "cell_type": "markdown",
      "metadata": {
        "id": "AIXRINdXOmGv"
      },
      "source": [
        "."
      ]
    },
    {
      "cell_type": "markdown",
      "metadata": {
        "id": "vI7k2Y60Ome6"
      },
      "source": [
        "."
      ]
    },
    {
      "cell_type": "markdown",
      "metadata": {
        "id": "tyXxvuO9OqvV"
      },
      "source": [
        "."
      ]
    },
    {
      "cell_type": "markdown",
      "metadata": {
        "id": "nEtY79ADS6iv"
      },
      "source": [
        "."
      ]
    },
    {
      "cell_type": "markdown",
      "metadata": {
        "id": "D-VwMlD-S7NY"
      },
      "source": [
        "."
      ]
    },
    {
      "cell_type": "markdown",
      "metadata": {
        "id": "Bfb1sJxeTOoI"
      },
      "source": [
        "."
      ]
    },
    {
      "cell_type": "markdown",
      "metadata": {
        "id": "Dr45TRsjN7b9"
      },
      "source": [
        "###Log-Log binning (With only 1 bin, due to the little data)\n"
      ]
    },
    {
      "cell_type": "code",
      "metadata": {
        "colab": {
          "base_uri": "https://localhost:8080/",
          "height": 380
        },
        "id": "q9ddmx_ZrdY3",
        "outputId": "72c6a045-4576-458c-9b83-0ebb3bfa2d00"
      },
      "source": [
        "plt.figure(figsize=(15, 5))\n",
        "plt.subplot(1, 2, 1) \n",
        "plt.plot(hist_GN1_x, hist_GN1_y, 'o')\n",
        "plt.title('\\nDistribution Of Node Linkages (log-log scale)')\n",
        "plt.xlabel('Degree\\n(log scale)')\n",
        "plt.ylabel('Number of Nodes\\n(log scale)')\n",
        "plt.xscale(\"log\")\n",
        "plt.yscale(\"log\")\n",
        "\n",
        "plt.subplot(1, 2, 2)\n",
        "plt.plot(cumulative_value_GN1,hist_GN1_y,'o')\n",
        "plt.title('\\nDistribution Of Node Linkages (log-log scale)')\n",
        "plt.xlabel('Degree\\n(log scale)')\n",
        "plt.ylabel('Number of Nodes\\n(log scale)')\n",
        "plt.xscale(\"log\")\n",
        "plt.yscale(\"log\")\n",
        "\n",
        "plt.show()"
      ],
      "execution_count": 249,
      "outputs": [
        {
          "output_type": "display_data",
          "data": {
            "image/png": "[encoded data removed]",
            "text/plain": [
              "<Figure size 1080x360 with 2 Axes>"
            ]
          },
          "metadata": {
            "tags": [],
            "needs_background": "light"
          }
        }
      ]
    },
    {
      "cell_type": "markdown",
      "metadata": {
        "id": "URG738SNOvKl"
      },
      "source": [
        "."
      ]
    },
    {
      "cell_type": "markdown",
      "metadata": {
        "id": "3PxGoQWZOvjF"
      },
      "source": [
        "."
      ]
    },
    {
      "cell_type": "markdown",
      "metadata": {
        "id": "6sJMFsskS8wt"
      },
      "source": [
        "."
      ]
    },
    {
      "cell_type": "markdown",
      "metadata": {
        "id": "GjMxxaBfS8Fz"
      },
      "source": [
        "."
      ]
    },
    {
      "cell_type": "markdown",
      "metadata": {
        "id": "REBkR73qOwOi"
      },
      "source": [
        "."
      ]
    },
    {
      "cell_type": "markdown",
      "metadata": {
        "id": "-SpOUsuWTYz2"
      },
      "source": [
        "."
      ]
    },
    {
      "cell_type": "markdown",
      "metadata": {
        "id": "08reAGcITYhk"
      },
      "source": [
        "."
      ]
    },
    {
      "cell_type": "markdown",
      "metadata": {
        "id": "0Fr6FjBcTYPM"
      },
      "source": [
        "."
      ]
    },
    {
      "cell_type": "markdown",
      "metadata": {
        "id": "JxuENe9GTX7A"
      },
      "source": [
        "."
      ]
    },
    {
      "cell_type": "markdown",
      "metadata": {
        "id": "AC5IbXZ3Owmv"
      },
      "source": [
        "."
      ]
    },
    {
      "cell_type": "markdown",
      "metadata": {
        "id": "28LqwP5AN-94"
      },
      "source": [
        "###Cumulative log-log"
      ]
    },
    {
      "cell_type": "code",
      "metadata": {
        "colab": {
          "base_uri": "https://localhost:8080/",
          "height": 271
        },
        "id": "I1edo40wsU92",
        "outputId": "385f3162-2243-42d3-9dd4-e67acb4facaf"
      },
      "source": [
        "plt.figure(figsize=(15, 5))\n",
        "plt.subplot(1, 2, 1) \n",
        "plt.plot(hist_GN2_x, hist_GN2_y, 'o')\n",
        "plt.title('\\nDistribution Of Node Linkages (log-log scale)')\n",
        "plt.xlabel('Degree\\n(log scale)')\n",
        "plt.ylabel('Number of Nodes\\n(log scale)')\n",
        "plt.xscale(\"log\")\n",
        "plt.yscale(\"log\")\n",
        "\n",
        "plt.subplot(1, 2, 2) \n",
        "plt.plot(cumulative_value_GN2,hist_GN2_y,'o')\n",
        "plt.title('\\nDistribution Of Node Linkages (log-log scale)')\n",
        "plt.xlabel('Degree\\n(log scale)')\n",
        "plt.ylabel('Number of Nodes\\n(log scale)')\n",
        "plt.xscale(\"log\")\n",
        "plt.yscale(\"log\")"
      ],
      "execution_count": 251,
      "outputs": [
        {
          "output_type": "display_data",
          "data": {
            "image/png": "[encoded data removed]",
            "text/plain": [
              "<Figure size 720x216 with 2 Axes>"
            ]
          },
          "metadata": {
            "tags": [],
            "needs_background": "light"
          }
        }
      ]
    },
    {
      "cell_type": "markdown",
      "metadata": {
        "id": "-j8_wwRUO248"
      },
      "source": [
        "--------------------------------------------------------------------------------------------------------------------------------"
      ]
    },
    {
      "cell_type": "markdown",
      "metadata": {
        "id": "Py6cYlDoO6eO"
      },
      "source": [
        "#Which of the two is more likely to be a scale-free network?"
      ]
    },
    {
      "cell_type": "markdown",
      "metadata": {
        "id": "Jeoa7uKnPGd7"
      },
      "source": [
        "### Net 1 follows a power low, identifying itself as a scale-free network."
      ]
    }
  ]
}