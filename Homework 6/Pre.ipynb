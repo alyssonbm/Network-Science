{
  "nbformat": 4,
  "nbformat_minor": 0,
  "metadata": {
    "colab": {
      "name": "Homework 06 - MO412 – Network Science - Diego Alysson.ipynb",
      "provenance": [],
      "collapsed_sections": []
    },
    "kernelspec": {
      "name": "python3",
      "display_name": "Python 3"
    },
    "language_info": {
      "name": "python"
    }
  },
  "cells": [
    {
      "cell_type": "code",
      "metadata": {
        "id": "abEItzJSkBlM"
      },
      "source": [
        "import networkx as nx\n",
        "import numpy as np\n",
        "import matplotlib.pyplot as plt\n",
        "from scipy.stats import linregress\n"
      ],
      "execution_count": 248,
      "outputs": []
    },
    {
      "cell_type": "code",
      "metadata": {
        "id": "_t4U6bxnkS9S"
      },
      "source": [
        "G = nx.barabasi_albert_graph(1000, 1, seed=None)"
      ],
      "execution_count": 249,
      "outputs": []
    },
    {
      "cell_type": "code",
      "metadata": {
        "id": "ui0i0oGVlzF_"
      },
      "source": [
        "def degree_histogram_plot_x_and_y(g, normalized=True):\n",
        "    aux_y = nx.degree_histogram(g)    \n",
        "    aux_x = np.arange(0,len(aux_y)).tolist()\n",
        "    aux_y = [x / 1000 for x in aux_y]\n",
        "    return aux_x[1:], aux_y[1:]\n",
        "\n",
        "def cumulative_function(network_y):\n",
        "  network_y_list = []\n",
        "  for i in range(len(network_y)):\n",
        "    network_y_list.append(sum((network_y[0:i])))\n",
        "  return network_y_list"
      ],
      "execution_count": 250,
      "outputs": []
    },
    {
      "cell_type": "code",
      "metadata": {
        "id": "tLZv7IXdmJmH"
      },
      "source": [
        "hist_Gx, hist_Gy = degree_histogram_plot_x_and_y(G)\n",
        "\n",
        "cumulative_value_G = cumulative_function(hist_Gy)"
      ],
      "execution_count": 251,
      "outputs": []
    },
    {
      "cell_type": "code",
      "metadata": {
        "colab": {
          "base_uri": "https://localhost:8080/",
          "height": 376
        },
        "id": "XSPbsqT8mT_j",
        "outputId": "44cd9c5b-5094-4d11-8d78-2eaef335e950"
      },
      "source": [
        "plt.figure(figsize=(7,5))\n",
        "plt.plot(hist_Gx, hist_Gy,'o')\n",
        "plt.title('\\nDistribution Of Node Degree (Linear scale)')\n",
        "plt.xlabel('Degree\\n(log scale)')\n",
        "plt.ylabel('P(k)\\n(log scale)')\n",
        "\n",
        "slope, yint = np.polyfit(hist_Gx,hist_Gy,1)\n",
        "xline = plt.xticks()[0]\n",
        "yline = list(map(lambda x: slope*x+yint,xline))\n",
        "plt.plot(xline,yline,ls='--',color='b')\n",
        "\n",
        "plt.show()"
      ],
      "execution_count": 252,
      "outputs": [
        {
          "output_type": "display_data",
          "data": {
            "image/png": "[encoded data removed]",
            "text/plain": [
              "<Figure size 504x360 with 1 Axes>"
            ]
          },
          "metadata": {
            "tags": [],
            "needs_background": "light"
          }
        }
      ]
    },
    {
      "cell_type": "code",
      "metadata": {
        "colab": {
          "base_uri": "https://localhost:8080/"
        },
        "id": "AeM2WCh8qDtZ",
        "outputId": "5d0ae650-967e-474f-d5c6-a60998783588"
      },
      "source": [
        "hist_Gx_log = np.log(hist_Gx)\n",
        "hist_Gy_log = np.log(hist_Gy)\n",
        "# hist_Gy[hist_Gy<0]=0"
      ],
      "execution_count": 253,
      "outputs": [
        {
          "output_type": "stream",
          "text": [
            "/usr/local/lib/python3.7/dist-packages/ipykernel_launcher.py:2: RuntimeWarning: divide by zero encountered in log\n",
            "  \n"
          ],
          "name": "stderr"
        }
      ]
    },
    {
      "cell_type": "code",
      "metadata": {
        "colab": {
          "base_uri": "https://localhost:8080/",
          "height": 273
        },
        "id": "vDbM6qdRmc0Y",
        "outputId": "69ad0cd6-ccfe-4242-aa23-d8c99be37219"
      },
      "source": [
        "# from scipy.optimize import curve_fit\n",
        "\n",
        "# plt.figure(figsize=(7,5))\n",
        "# plt.plot(hist_Gx_log, hist_Gy_log,'o')\n",
        "# plt.title('\\nDistribution Of Node Degree (log-log scale)')\n",
        "# plt.xlabel('Degree\\n(log scale)')\n",
        "# plt.ylabel('P(k)\\n(log scale)')\n",
        "# plt.xscale('log')\n",
        "# plt.yscale('log')\n",
        "\n",
        "# slope, yint = np.polyfit(hist_Gx_log,hist_Gy_log,1)\n",
        "# xline = plt.xticks()[0]\n",
        "# yline = list(map(lambda x: slope*x+yint,xline))\n",
        "# plt.plot(np.log(xline),np.log(yline),ls='--',color='b')\n",
        "\n",
        "\n",
        "# plt.show()\n",
        "\n",
        "\n",
        "x=np.array(hist_Gx)\n",
        "y=np.array(hist_Gy)\n",
        "fig = plt.figure()\n",
        "ax=plt.gca() \n",
        "fit = np.polyfit(x, y, deg=1)\n",
        "ax.plot(x, fit[0] *x + fit[1], color='red') # add reg line\n",
        "ax.scatter(x,y,c=\"blue\",alpha=0.95,edgecolors='none')\n",
        "ax.set_yscale('log')\n",
        "ax.set_xscale('log')\n",
        "plt.show()"
      ],
      "execution_count": 254,
      "outputs": [
        {
          "output_type": "display_data",
          "data": {
            "image/png": "[encoded data removed]",
            "text/plain": [
              "<Figure size 432x288 with 1 Axes>"
            ]
          },
          "metadata": {
            "tags": [],
            "needs_background": "light"
          }
        }
      ]
    },
    {
      "cell_type": "code",
      "metadata": {
        "id": "ki_sktTwmlK8"
      },
      "source": [
        "# plt.figure(figsize=(15, 5))\n",
        "# plt.subplot(1, 2, 1) \n",
        "# plt.plot(cumulative_value_G, hist_Gy_log, 'o')\n",
        "# plt.title('\\nDistribution Of Node Degree (log-log scale)')\n",
        "# plt.xlabel('Degree\\n(log scale)')\n",
        "# plt.ylabel('P(k)\\n(log scale)')\n",
        "\n",
        "# slope, yint = np.polyfit(cumulative_value_G,hist_Gy_log,1)\n",
        "# xline = plt.xticks()[0]\n",
        "# yline = list(map(lambda x: slope*x+yint,xline))\n",
        "# plt.plot(xline,yline,ls='--',color='b')"
      ],
      "execution_count": 256,
      "outputs": []
    },
    {
      "cell_type": "markdown",
      "metadata": {
        "id": "Tp9IFpkhAzly"
      },
      "source": [
        "#TESTES"
      ]
    },
    {
      "cell_type": "code",
      "metadata": {
        "id": "xOnbb7OgA2EP"
      },
      "source": [
        ""
      ],
      "execution_count": 256,
      "outputs": []
    }
  ]
}