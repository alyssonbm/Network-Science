{
  "nbformat": 4,
  "nbformat_minor": 0,
  "metadata": {
    "colab": {
      "name": "Homework 03 - Network Science -  Diego Alysson Braga Moreira",
      "provenance": [],
      "collapsed_sections": [],
      "toc_visible": true
    },
    "kernelspec": {
      "name": "python3",
      "display_name": "Python 3"
    },
    "language_info": {
      "name": "python"
    }
  },
  "cells": [
    {
      "cell_type": "markdown",
      "metadata": {
        "id": "u_vXHhEt59qe"
      },
      "source": [
        "# Librarys Import"
      ]
    },
    {
      "cell_type": "code",
      "metadata": {
        "id": "WzIXA2DTEGi1"
      },
      "source": [
        "#Import librarys\n",
        "import networkx as nx\n",
        "import matplotlib.pyplot as plt\n",
        "import random\n",
        "from random import sample"
      ],
      "execution_count": null,
      "outputs": []
    },
    {
      "cell_type": "markdown",
      "metadata": {
        "id": "o3IW_Hjd6Ckj"
      },
      "source": [
        "# Importing data from a .tsv file"
      ]
    },
    {
      "cell_type": "code",
      "metadata": {
        "id": "OZDtunYvEees"
      },
      "source": [
        "#Open and extract the network edge list from the tsv file.\n",
        "fh=open(\"/content/net1000-005 - net1000-005.tsv\", 'rb')\n",
        "G=nx.read_edgelist(fh)\n",
        "fh.close()\n",
        "\n",
        "#Com ou sem reposição, 0: sem, 1: com \n",
        "replacement = 1"
      ],
      "execution_count": null,
      "outputs": []
    },
    {
      "cell_type": "code",
      "metadata": {
        "id": "LhAAZ3gDrQzr"
      },
      "source": [
        ""
      ],
      "execution_count": null,
      "outputs": []
    },
    {
      "cell_type": "markdown",
      "metadata": {
        "id": "0zKqlm3P6EWh"
      },
      "source": [
        "# 1. Use the attached file net1000-005.tsv for this question. It contains a list of links for a network having N = 1000. The nodes are named with numbers from 1 to 1000. "
      ]
    },
    {
      "cell_type": "markdown",
      "metadata": {
        "id": "zFj4hJBt6Utu"
      },
      "source": [
        "### (a) Select at random 100 nodes $v_0$, $v_1$, . . . , $v_{99}$ from this network. Hand in a plain text file (no formatting) with 100 lines of the form \n",
        "\n",
        "> ### $v_i$ j \n",
        "\n",
        "### showing the name j of each selected node $v_i$. \n"
      ]
    },
    {
      "cell_type": "code",
      "metadata": {
        "id": "Op-zC20UKKeK"
      },
      "source": [
        "# Create a file named 'a' what store the plain text required, with 100 random nodes from the Network\n",
        "f = open(\"a.txt\", \"w\")\n",
        "#Select random nodes from the network G\n",
        "if replacement == 0:\n",
        "  random_nodes = sample(list(G.nodes()), 100)\n",
        "elif replacement == 1:\n",
        "  random_nodes = random.choices(list(G.nodes()), k=100)\n",
        "#For each node, print the required message\n",
        "for i in range(len(random_nodes)):\n",
        "  f.write(f'{i} {random_nodes[i]}\\n')\n",
        "f.close()"
      ],
      "execution_count": null,
      "outputs": []
    },
    {
      "cell_type": "markdown",
      "metadata": {
        "id": "LbxBKxWb6_Zi"
      },
      "source": [
        "### (b) Compute shortest paths from $v_{2i}$ to $v_{2i+1}$, for i ranging from 0 to 49. Hand in a text file with your paths, one per line, with nodes separated by whitespace."
      ]
    },
    {
      "cell_type": "code",
      "metadata": {
        "id": "45XbHh4WfTZF"
      },
      "source": [
        "# Create a file 'b' what will store the paths from the selected random nodes v2i to v2i+1. The data with the 100 nodes was take from the 'a.txt' file.\n",
        "#Create the 'b' file\n",
        "f = open(\"b.txt\", \"w\")\n",
        "# Open and get the data from the 'a' file\n",
        "aFile = open('a.txt','r').read().split('\\n')\n",
        "# For 0 to 49, verify the shortest path from v2i to \n",
        "for i in range(49):\n",
        "  pathI = (nx.shortest_path(G,source=aFile[2*i].split()[1],target=aFile[(2*i)+1].split()[1]))\n",
        "  # Store the path in 'b'\n",
        "  for j in pathI:\n",
        "    f.write(f'{j} ')\n",
        "  f.write('\\n')\n",
        "f.close()"
      ],
      "execution_count": null,
      "outputs": []
    },
    {
      "cell_type": "markdown",
      "metadata": {
        "id": "nE20Xs_67UKD"
      },
      "source": [
        "### (c) Plot a distribution of the distances you found in item 1b. Hand in this plot. "
      ]
    },
    {
      "cell_type": "code",
      "metadata": {
        "id": "hF-wrZShpkbV"
      },
      "source": [
        "# Open and get the data from 'b' file with the paths from the selected random nodes\n",
        "bFile = open('b.txt','r').read().split('\\n')\n",
        "# Store the distances from each node i a list 'listOfDistances'\n",
        "listOfDistances = []\n",
        "for i in bFile:\n",
        "  listOfDistances.append(len(i.split())-1)\n",
        "f.close()"
      ],
      "execution_count": null,
      "outputs": []
    },
    {
      "cell_type": "code",
      "metadata": {
        "colab": {
          "base_uri": "https://localhost:8080/",
          "height": 282
        },
        "id": "uaB_qJF-2Plu",
        "outputId": "99ba96b7-0f63-4112-dca7-6dc75269e39f"
      },
      "source": [
        "# Plot the histogram of the distances and a list of distances\n",
        "# plt.hist(listOfDistances[:-1], bins=((len(Counter(listOfDistances).values()))-1))\n",
        "plt.hist(listOfDistances[:-1])\n",
        "print(listOfDistances[:-1])"
      ],
      "execution_count": null,
      "outputs": [
        {
          "output_type": "stream",
          "text": [
            "[1, 2, 2, 2, 2, 2, 1, 1, 2, 1, 2, 2, 2, 2, 2, 2, 2, 2, 2, 2, 2, 2, 2, 2, 2, 2, 2, 2, 2, 2, 2, 2, 2, 2, 2, 2, 3, 2, 2, 2, 2, 2, 2, 2, 3, 1, 2, 2, 2]\n"
          ],
          "name": "stdout"
        },
        {
          "output_type": "display_data",
          "data": {
            "image/png": "[encoded data removed]",
            "text/plain": [
              "<Figure size 432x288 with 1 Axes>"
            ]
          },
          "metadata": {
            "tags": [],
            "needs_background": "light"
          }
        }
      ]
    }
  ]
}