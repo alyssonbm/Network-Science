{
  "nbformat": 4,
  "nbformat_minor": 0,
  "metadata": {
    "colab": {
      "name": "Homework 04 - Network Science -  Diego Alysson Braga Moreira",
      "provenance": []
    },
    "kernelspec": {
      "name": "python3",
      "display_name": "Python 3"
    },
    "language_info": {
      "name": "python"
    }
  },
  "cells": [
    {
      "cell_type": "markdown",
      "metadata": {
        "id": "aB8gCCRDeuPS"
      },
      "source": [
        "# Import the libraries"
      ]
    },
    {
      "cell_type": "code",
      "metadata": {
        "id": "rwl8DplWedyE"
      },
      "source": [
        "import networkx as nx\n",
        "import random\n",
        "import matplotlib.pyplot as plt"
      ],
      "execution_count": 79,
      "outputs": []
    },
    {
      "cell_type": "markdown",
      "metadata": {
        "id": "Q2i16NiBez13"
      },
      "source": [
        "# Create a new Graph\n",
        "### Starting from a graph with 1000 nodes and no links, add links randomly, one at a time, until your graph has a connected component that comprises at least 501 nodes. \n",
        "### What is the value of <k> at this point?\n",
        "\n",
        "First, I will demonstrate the average grade for just one network with a thousand nodes."
      ]
    },
    {
      "cell_type": "code",
      "metadata": {
        "colab": {
          "base_uri": "https://localhost:8080/"
        },
        "id": "yV_O64Y4eizS",
        "outputId": "93a8b729-be6e-4d31-921e-ee456c22a1c0"
      },
      "source": [
        "G = nx.Graph()\n",
        "thousand_nodes_list = [x for x in range(1000)]\n",
        "G.add_nodes_from(thousand_nodes_list)\n",
        "already_list = []\n",
        "num_edges = 0\n",
        "while len(max(nx.connected_components(G), key=len)) <= 501:\n",
        "  node_a = random.randint(0, 999)\n",
        "  node_b = random.randint(0, 999)\n",
        "  if (node_a,node_b) not in already_list:\n",
        "    already_list.append((node_a,node_b))\n",
        "    G.add_edge(node_a, node_b)\n",
        "    num_edges = num_edges + 1\n",
        "\n",
        "degrees = G.degree()\n",
        "degree_values =  [v for k, v in degrees]\n",
        "average_degree = sum(degree_values)/len(degree_values)\n",
        "average_degree"
      ],
      "execution_count": 80,
      "outputs": [
        {
          "output_type": "execute_result",
          "data": {
            "text/plain": [
              "1.382"
            ]
          },
          "metadata": {
            "tags": []
          },
          "execution_count": 80
        }
      ]
    },
    {
      "cell_type": "markdown",
      "metadata": {
        "id": "9yu1_X30tMTf"
      },
      "source": [
        "### To prove the result obtained, we can compare with the result expected by the formula $<k> = 2 * L / N$"
      ]
    },
    {
      "cell_type": "code",
      "metadata": {
        "colab": {
          "base_uri": "https://localhost:8080/"
        },
        "id": "HwY4_v5rnoQC",
        "outputId": "0bf6ffea-8a8b-4290-9342-c3bb7df25426"
      },
      "source": [
        "average_degree_form = (2*len(G.edges()))/len(G.nodes)\n",
        "average_degree_form"
      ],
      "execution_count": 81,
      "outputs": [
        {
          "output_type": "execute_result",
          "data": {
            "text/plain": [
              "1.382"
            ]
          },
          "metadata": {
            "tags": []
          },
          "execution_count": 81
        }
      ]
    },
    {
      "cell_type": "markdown",
      "metadata": {
        "id": "nfUV23n0v3XX"
      },
      "source": [
        "."
      ]
    },
    {
      "cell_type": "markdown",
      "metadata": {
        "id": "4V1kIebvs2uA"
      },
      "source": [
        "# Repeat the experiment 50 times, and plot the distributiion of <k> values.\n",
        "\n",
        "To make it easier, I created a method that returns the average degree of a thousand-node random network, based on the code above."
      ]
    },
    {
      "cell_type": "code",
      "metadata": {
        "id": "dT7oCs_QreR8"
      },
      "source": [
        "def average_degree_from_random_thousand_network():\n",
        "  G = nx.Graph()\n",
        "  thousand_nodes_list = [x for x in range(1000)]\n",
        "  G.add_nodes_from(thousand_nodes_list)\n",
        "  already_list = []\n",
        "  num_edges = 0\n",
        "  while len(max(nx.connected_components(G), key=len)) <= 501:\n",
        "    node_a = random.randint(0, 999)\n",
        "    node_b = random.randint(0, 999)\n",
        "    if (node_a,node_b) not in already_list:\n",
        "      already_list.append((node_a,node_b))\n",
        "      G.add_edge(node_a, node_b)\n",
        "      num_edges = num_edges + 1\n",
        "\n",
        "  degrees = G.degree()\n",
        "  degree_values =  [v for k, v in degrees]\n",
        "  average_degree = sum(degree_values)/len(degree_values)\n",
        "  return average_degree"
      ],
      "execution_count": 82,
      "outputs": []
    },
    {
      "cell_type": "markdown",
      "metadata": {
        "id": "K603VdRitojR"
      },
      "source": [
        "Call the method 50 times and save the average degrees"
      ]
    },
    {
      "cell_type": "code",
      "metadata": {
        "id": "BmQRMWOprmG_"
      },
      "source": [
        "average_degree_list = []\n",
        "for i in range(50):\n",
        "  average_degree_list.append(average_degree_from_random_thousand_network())"
      ],
      "execution_count": 83,
      "outputs": []
    },
    {
      "cell_type": "markdown",
      "metadata": {
        "id": "ykf0ZfbwuOxV"
      },
      "source": [
        "### Average Degree List and size:"
      ]
    },
    {
      "cell_type": "code",
      "metadata": {
        "colab": {
          "base_uri": "https://localhost:8080/"
        },
        "id": "EddqtSYZuM5I",
        "outputId": "2dbb1326-2376-49b2-c18b-5de64156f5a9"
      },
      "source": [
        "print(average_degree_list)\n",
        "print(f'Size of Average Degree List: {len(average_degree_list)}')"
      ],
      "execution_count": 90,
      "outputs": [
        {
          "output_type": "stream",
          "text": [
            "[1.332, 1.308, 1.404, 1.43, 1.412, 1.388, 1.342, 1.418, 1.466, 1.424, 1.36, 1.404, 1.402, 1.34, 1.422, 1.402, 1.424, 1.406, 1.48, 1.444, 1.43, 1.412, 1.422, 1.364, 1.4, 1.396, 1.416, 1.374, 1.5, 1.394, 1.366, 1.33, 1.4, 1.438, 1.392, 1.38, 1.382, 1.44, 1.394, 1.386, 1.372, 1.416, 1.35, 1.38, 1.38, 1.372, 1.382, 1.48, 1.338, 1.42]\n",
            "Size of Average Degree List: 50\n"
          ],
          "name": "stdout"
        }
      ]
    },
    {
      "cell_type": "markdown",
      "metadata": {
        "id": "NjDIgZUYwI3x"
      },
      "source": [
        "."
      ]
    },
    {
      "cell_type": "markdown",
      "metadata": {
        "id": "-ndtfV-DtxNl"
      },
      "source": [
        "### Average Degree Distribution:"
      ]
    },
    {
      "cell_type": "code",
      "metadata": {
        "colab": {
          "base_uri": "https://localhost:8080/",
          "height": 282
        },
        "id": "Gr4IWzuIsEev",
        "outputId": "ee1b27bb-a338-4482-d029-c20eb7526557"
      },
      "source": [
        "plt.hist(average_degree_list)\n",
        "print(\"Average Degree Distribution\")"
      ],
      "execution_count": 84,
      "outputs": [
        {
          "output_type": "stream",
          "text": [
            "Average Degree Distribution\n"
          ],
          "name": "stdout"
        },
        {
          "output_type": "display_data",
          "data": {
            "image/png": "[encoded data removed]",
            "text/plain": [
              "<Figure size 432x288 with 1 Axes>"
            ]
          },
          "metadata": {
            "tags": [],
            "needs_background": "light"
          }
        }
      ]
    }
  ]
}